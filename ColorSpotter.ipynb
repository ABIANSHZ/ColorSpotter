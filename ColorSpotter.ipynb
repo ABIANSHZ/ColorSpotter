{
 "cells": [
  {
   "cell_type": "code",
   "execution_count": 2,
   "metadata": {},
   "outputs": [
    {
     "name": "stdout",
     "output_type": "stream",
     "text": [
      "\n",
      "Checking for specified colors:\n",
      "'black' (RGB: IntegerRGB(red=0, green=0, blue=0), HEX: #000000) is PRESENT in the image.\n"
     ]
    }
   ],
   "source": [
    "from PIL import Image\n",
    "import webcolors\n",
    "import os\n",
    "\n",
    "# Function to convert RGB to HEX\n",
    "def rgb_to_hex(rgb):\n",
    "    return '#%02x%02x%02x' % rgb\n",
    "\n",
    "# Function to get RGB from color name\n",
    "def get_rgb_from_name(color_name):\n",
    "    try:\n",
    "        # Convert color name to RGB using webcolors CSS3 names\n",
    "        hex_color = webcolors.name_to_hex(color_name, spec='css3')\n",
    "        return webcolors.hex_to_rgb(hex_color)\n",
    "    except ValueError:\n",
    "        print(f\"Warning: '{color_name}' is not a recognized CSS3 color name.\")\n",
    "        return None\n",
    "\n",
    "# Function to check if a color is present in the image\n",
    "def is_color_present(image_path, target_colors):\n",
    "    try:\n",
    "        # Check if the file exists\n",
    "        if not os.path.exists(image_path):\n",
    "            print(\"Error: Image file not found.\")\n",
    "            return\n",
    "\n",
    "        # Open the image and convert to RGB\n",
    "        img = Image.open(image_path).convert('RGB')\n",
    "        \n",
    "        # Resize to reduce processing time (optional)\n",
    "        img = img.resize((100, 100))\n",
    "        \n",
    "        # Get pixel data\n",
    "        pixels = list(img.getdata())\n",
    "        \n",
    "        # Convert pixels to a set of unique RGB values\n",
    "        unique_colors = set(pixels)\n",
    "        \n",
    "        # Convert target color names to RGB\n",
    "        target_rgb_list = []\n",
    "        for color_name in target_colors:\n",
    "            rgb = get_rgb_from_name(color_name)\n",
    "            if rgb:\n",
    "                target_rgb_list.append((rgb, color_name))\n",
    "        \n",
    "        # Check if target colors are present\n",
    "        print(\"\\nChecking for specified colors:\")\n",
    "        for rgb, name in target_rgb_list:\n",
    "            if rgb in unique_colors:\n",
    "                print(f\"'{name}' (RGB: {rgb}, HEX: {rgb_to_hex(rgb)}) is PRESENT in the image.\")\n",
    "            else:\n",
    "                # Check for close matches (within a tolerance)\n",
    "                tolerance = 30  # Adjust this value for sensitivity\n",
    "                close_match = any(sum((a - b) ** 2 for a, b in zip(rgb, img_color)) <= tolerance ** 2 \n",
    "                                for img_color in unique_colors)\n",
    "                if close_match:\n",
    "                    print(f\"'{name}' (RGB: {rgb}, HEX: {rgb_to_hex(rgb)}) is NEARLY PRESENT (close match).\")\n",
    "                else:\n",
    "                    print(f\"'{name}' (RGB: {rgb}, HEX: {rgb_to_hex(rgb)}) is NOT present.\")\n",
    "\n",
    "    except Exception as e:\n",
    "        print(f\"An error occurred: {str(e)}\")\n",
    "\n",
    "# Main execution\n",
    "if __name__ == \"__main__\":\n",
    "    # Get image path\n",
    "    image_path = input(\"Please enter the path to your image file: \")\n",
    "    \n",
    "    # Get color names from user\n",
    "    color_input = input(\"Enter color names separated by commas (e.g., red, blue, green): \")\n",
    "    target_colors = [color.strip().lower() for color in color_input.split(',')]\n",
    "    \n",
    "    # Check colors in the image\n",
    "    is_color_present(image_path, target_colors)"
   ]
  }
 ],
 "metadata": {
  "kernelspec": {
   "display_name": "Python 3",
   "language": "python",
   "name": "python3"
  },
  "language_info": {
   "codemirror_mode": {
    "name": "ipython",
    "version": 3
   },
   "file_extension": ".py",
   "mimetype": "text/x-python",
   "name": "python",
   "nbconvert_exporter": "python",
   "pygments_lexer": "ipython3",
   "version": "3.10.0"
  }
 },
 "nbformat": 4,
 "nbformat_minor": 2
}
